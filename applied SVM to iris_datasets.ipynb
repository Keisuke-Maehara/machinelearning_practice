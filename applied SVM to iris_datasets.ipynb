{
 "cells": [
  {
   "cell_type": "code",
   "execution_count": 1,
   "metadata": {},
   "outputs": [
    {
     "name": "stdout",
     "output_type": "stream",
     "text": [
      "(150, 4)\n",
      "[[5.1 3.5 1.4 0.2]\n",
      " [4.9 3.  1.4 0.2]\n",
      " [4.7 3.2 1.3 0.2]\n",
      " [4.6 3.1 1.5 0.2]\n",
      " [5.  3.6 1.4 0.2]\n",
      " [5.4 3.9 1.7 0.4]\n",
      " [4.6 3.4 1.4 0.3]\n",
      " [5.  3.4 1.5 0.2]\n",
      " [4.4 2.9 1.4 0.2]\n",
      " [4.9 3.1 1.5 0.1]\n",
      " [5.4 3.7 1.5 0.2]\n",
      " [4.8 3.4 1.6 0.2]\n",
      " [4.8 3.  1.4 0.1]\n",
      " [4.3 3.  1.1 0.1]\n",
      " [5.8 4.  1.2 0.2]\n",
      " [5.7 4.4 1.5 0.4]\n",
      " [5.4 3.9 1.3 0.4]\n",
      " [5.1 3.5 1.4 0.3]\n",
      " [5.7 3.8 1.7 0.3]\n",
      " [5.1 3.8 1.5 0.3]]\n",
      "['setosa' 'versicolor' 'virginica']\n"
     ]
    }
   ],
   "source": [
    "from sklearn.datasets import load_iris\n",
    "\n",
    "iris = load_iris()\n",
    "print(iris.data.shape)\n",
    "print(iris.data[:20])\n",
    "print(iris.target_names)"
   ]
  },
  {
   "cell_type": "code",
   "execution_count": 2,
   "metadata": {},
   "outputs": [
    {
     "name": "stdout",
     "output_type": "stream",
     "text": [
      "['versicolor' 'virginica' 'setosa' 'setosa' 'setosa' 'versicolor'\n",
      " 'virginica' 'versicolor' 'virginica' 'setosa' 'versicolor' 'versicolor'\n",
      " 'virginica' 'setosa' 'setosa' 'setosa' 'setosa' 'versicolor' 'versicolor'\n",
      " 'versicolor' 'virginica' 'setosa' 'versicolor' 'setosa' 'versicolor'\n",
      " 'versicolor' 'versicolor' 'versicolor' 'versicolor' 'setosa']\n",
      "[1 2 0 0 0 1 2 1 2 0 1 1 2 0 0 0 0 1 1 1 2 0 1 0 1 1 1 1 1 0]\n",
      "[[5.7 2.6 3.5 1. ]\n",
      " [6.7 2.5 5.8 1.8]\n",
      " [4.6 3.4 1.4 0.3]\n",
      " [5.5 3.5 1.3 0.2]\n",
      " [5.1 3.3 1.7 0.5]\n",
      " [5.4 3.  4.5 1.5]\n",
      " [6.9 3.1 5.1 2.3]\n",
      " [6.  2.9 4.5 1.5]\n",
      " [6.7 3.3 5.7 2.5]\n",
      " [4.6 3.1 1.5 0.2]\n",
      " [5.7 2.8 4.5 1.3]\n",
      " [6.6 2.9 4.6 1.3]\n",
      " [5.8 2.7 5.1 1.9]\n",
      " [5.  3.5 1.6 0.6]\n",
      " [5.4 3.9 1.7 0.4]\n",
      " [4.8 3.4 1.6 0.2]\n",
      " [5.2 4.1 1.5 0.1]\n",
      " [7.  3.2 4.7 1.4]\n",
      " [5.8 2.7 4.1 1. ]\n",
      " [6.5 2.8 4.6 1.5]\n",
      " [7.7 2.8 6.7 2. ]\n",
      " [5.  3.4 1.5 0.2]\n",
      " [4.9 2.4 3.3 1. ]\n",
      " [4.9 3.1 1.5 0.2]\n",
      " [6.6 3.  4.4 1.4]\n",
      " [5.6 2.7 4.2 1.3]\n",
      " [5.6 3.  4.1 1.3]\n",
      " [5.5 2.4 3.8 1.1]\n",
      " [6.1 2.8 4.7 1.2]\n",
      " [5.1 3.4 1.5 0.2]]\n"
     ]
    }
   ],
   "source": [
    "from sklearn.model_selection import train_test_split\n",
    "\n",
    "(train_X, test_X, train_Y, test_Y) = train_test_split(iris.data, iris.target, test_size = 0.2)\n",
    "\n",
    "print(iris.target_names[test_Y])\n",
    "print(test_Y)\n",
    "print(test_X)"
   ]
  },
  {
   "cell_type": "code",
   "execution_count": 4,
   "metadata": {},
   "outputs": [
    {
     "name": "stdout",
     "output_type": "stream",
     "text": [
      "SVC(C=100, cache_size=200, class_weight=None, coef0=0.0,\n",
      "    decision_function_shape='ovr', degree=3, gamma=0.001, kernel='rbf',\n",
      "    max_iter=-1, probability=False, random_state=None, shrinking=True,\n",
      "    tol=0.001, verbose=False)\n"
     ]
    },
    {
     "data": {
      "text/plain": [
       "SVC(C=100, cache_size=200, class_weight=None, coef0=0.0,\n",
       "    decision_function_shape='ovr', degree=3, gamma=0.001, kernel='rbf',\n",
       "    max_iter=-1, probability=False, random_state=None, shrinking=True,\n",
       "    tol=0.001, verbose=False)"
      ]
     },
     "execution_count": 4,
     "metadata": {},
     "output_type": "execute_result"
    }
   ],
   "source": [
    "from sklearn.svm import SVC\n",
    "from sklearn.metrics import accuracy_score, confusion_matrix, classification_report\n",
    "\n",
    "model = SVC(C=100, gamma=0.001)\n",
    "print(model)\n",
    "model.fit(train_X, iris.target_names[train_Y])"
   ]
  },
  {
   "cell_type": "code",
   "execution_count": 5,
   "metadata": {},
   "outputs": [
    {
     "name": "stdout",
     "output_type": "stream",
     "text": [
      "score:1.0\n",
      "              precision    recall  f1-score   support\n",
      "\n",
      "      setosa       1.00      1.00      1.00        11\n",
      "  versicolor       1.00      1.00      1.00        14\n",
      "   virginica       1.00      1.00      1.00         5\n",
      "\n",
      "    accuracy                           1.00        30\n",
      "   macro avg       1.00      1.00      1.00        30\n",
      "weighted avg       1.00      1.00      1.00        30\n",
      "\n",
      "[[11  0  0]\n",
      " [ 0 14  0]\n",
      " [ 0  0  5]]\n"
     ]
    }
   ],
   "source": [
    "pred = model.predict(test_X)\n",
    "score = accuracy_score(iris.target_names[test_Y], pred)\n",
    "print('score:%s' % score)\n",
    "print(classification_report(iris.target_names[test_Y], pred))\n",
    "print(confusion_matrix(iris.target_names[test_Y], pred))"
   ]
  },
  {
   "cell_type": "code",
   "execution_count": null,
   "metadata": {},
   "outputs": [],
   "source": []
  }
 ],
 "metadata": {
  "kernelspec": {
   "display_name": "Python 3",
   "language": "python",
   "name": "python3"
  },
  "language_info": {
   "codemirror_mode": {
    "name": "ipython",
    "version": 3
   },
   "file_extension": ".py",
   "mimetype": "text/x-python",
   "name": "python",
   "nbconvert_exporter": "python",
   "pygments_lexer": "ipython3",
   "version": "3.7.3"
  }
 },
 "nbformat": 4,
 "nbformat_minor": 2
}
