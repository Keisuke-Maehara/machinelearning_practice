{
 "cells": [
  {
   "cell_type": "code",
   "execution_count": 2,
   "metadata": {
    "scrolled": true
   },
   "outputs": [
    {
     "name": "stdout",
     "output_type": "stream",
     "text": [
      "(150, 4)\n",
      "[[5.1 3.5 1.4 0.2]\n",
      " [4.9 3.  1.4 0.2]\n",
      " [4.7 3.2 1.3 0.2]\n",
      " [4.6 3.1 1.5 0.2]\n",
      " [5.  3.6 1.4 0.2]\n",
      " [5.4 3.9 1.7 0.4]\n",
      " [4.6 3.4 1.4 0.3]\n",
      " [5.  3.4 1.5 0.2]\n",
      " [4.4 2.9 1.4 0.2]\n",
      " [4.9 3.1 1.5 0.1]\n",
      " [5.4 3.7 1.5 0.2]\n",
      " [4.8 3.4 1.6 0.2]\n",
      " [4.8 3.  1.4 0.1]\n",
      " [4.3 3.  1.1 0.1]\n",
      " [5.8 4.  1.2 0.2]\n",
      " [5.7 4.4 1.5 0.4]\n",
      " [5.4 3.9 1.3 0.4]\n",
      " [5.1 3.5 1.4 0.3]\n",
      " [5.7 3.8 1.7 0.3]\n",
      " [5.1 3.8 1.5 0.3]]\n",
      "['setosa' 'versicolor' 'virginica']\n"
     ]
    }
   ],
   "source": [
    "from sklearn.datasets import load_iris\n",
    "\n",
    "iris = load_iris()\n",
    "print(iris.data.shape)\n",
    "print(iris.data[:20])\n",
    "print(iris.target_names)"
   ]
  },
  {
   "cell_type": "code",
   "execution_count": 4,
   "metadata": {},
   "outputs": [
    {
     "name": "stdout",
     "output_type": "stream",
     "text": [
      "['virginica' 'setosa' 'virginica' 'setosa' 'versicolor' 'virginica'\n",
      " 'virginica' 'setosa' 'versicolor' 'virginica' 'setosa' 'virginica'\n",
      " 'versicolor' 'virginica' 'versicolor' 'virginica' 'versicolor'\n",
      " 'virginica' 'setosa' 'virginica' 'setosa' 'setosa' 'setosa' 'versicolor'\n",
      " 'setosa' 'setosa' 'virginica' 'versicolor' 'versicolor' 'virginica'\n",
      " 'virginica' 'setosa' 'virginica' 'virginica' 'setosa' 'setosa' 'setosa'\n",
      " 'setosa' 'setosa' 'setosa' 'setosa' 'versicolor' 'versicolor' 'setosa'\n",
      " 'versicolor']\n",
      "[2 0 2 0 1 2 2 0 1 2 0 2 1 2 1 2 1 2 0 2 0 0 0 1 0 0 2 1 1 2 2 0 2 2 0 0 0\n",
      " 0 0 0 0 1 1 0 1]\n",
      "[[6.9 3.1 5.1 2.3]\n",
      " [5.  3.5 1.3 0.3]\n",
      " [7.7 3.8 6.7 2.2]\n",
      " [4.3 3.  1.1 0.1]\n",
      " [5.8 2.7 3.9 1.2]\n",
      " [6.4 2.7 5.3 1.9]\n",
      " [6.3 2.5 5.  1.9]\n",
      " [4.6 3.4 1.4 0.3]\n",
      " [5.8 2.7 4.1 1. ]\n",
      " [6.7 3.3 5.7 2.5]\n",
      " [4.9 3.6 1.4 0.1]\n",
      " [6.7 3.1 5.6 2.4]\n",
      " [5.9 3.2 4.8 1.8]\n",
      " [6.3 3.4 5.6 2.4]\n",
      " [5.9 3.  4.2 1.5]\n",
      " [6.  2.2 5.  1.5]\n",
      " [6.1 2.9 4.7 1.4]\n",
      " [6.4 2.8 5.6 2.1]\n",
      " [4.5 2.3 1.3 0.3]\n",
      " [5.7 2.5 5.  2. ]\n",
      " [5.5 4.2 1.4 0.2]\n",
      " [5.1 3.5 1.4 0.2]\n",
      " [4.8 3.  1.4 0.3]\n",
      " [6.  2.2 4.  1. ]\n",
      " [5.  3.  1.6 0.2]\n",
      " [5.7 4.4 1.5 0.4]\n",
      " [7.2 3.2 6.  1.8]\n",
      " [5.6 2.9 3.6 1.3]\n",
      " [6.  2.7 5.1 1.6]\n",
      " [6.1 2.6 5.6 1.4]\n",
      " [6.9 3.2 5.7 2.3]\n",
      " [4.7 3.2 1.3 0.2]\n",
      " [7.9 3.8 6.4 2. ]\n",
      " [7.4 2.8 6.1 1.9]\n",
      " [4.6 3.2 1.4 0.2]\n",
      " [5.3 3.7 1.5 0.2]\n",
      " [5.1 3.8 1.5 0.3]\n",
      " [5.  3.6 1.4 0.2]\n",
      " [4.8 3.4 1.6 0.2]\n",
      " [5.  3.5 1.6 0.6]\n",
      " [4.4 3.2 1.3 0.2]\n",
      " [6.3 2.5 4.9 1.5]\n",
      " [5.6 2.7 4.2 1.3]\n",
      " [5.  3.4 1.6 0.4]\n",
      " [5.8 2.6 4.  1.2]]\n"
     ]
    }
   ],
   "source": [
    "from sklearn.model_selection import train_test_split\n",
    "\n",
    "(train_X, test_X, train_Y, test_Y) = train_test_split(iris.data, iris.target, test_size = 0.2)\n",
    "\n",
    "print(iris.target_names[test_Y])\n",
    "print(test_Y)\n",
    "print(test_X)"
   ]
  },
  {
   "cell_type": "code",
   "execution_count": 5,
   "metadata": {},
   "outputs": [
    {
     "data": {
      "text/plain": [
       "KNeighborsClassifier(algorithm='auto', leaf_size=30, metric='minkowski',\n",
       "                     metric_params=None, n_jobs=None, n_neighbors=5, p=2,\n",
       "                     weights='uniform')"
      ]
     },
     "execution_count": 5,
     "metadata": {},
     "output_type": "execute_result"
    }
   ],
   "source": [
    "from sklearn.neighbors import KNeighborsClassifier\n",
    "\n",
    "model = KNeighborsClassifier()\n",
    "model.fit(train_X, iris.target_names[train_Y])"
   ]
  },
  {
   "cell_type": "code",
   "execution_count": 7,
   "metadata": {},
   "outputs": [
    {
     "name": "stdout",
     "output_type": "stream",
     "text": [
      "score:0.9333333333333333\n",
      "              precision    recall  f1-score   support\n",
      "\n",
      "      setosa       1.00      1.00      1.00        19\n",
      "  versicolor       1.00      0.73      0.84        11\n",
      "   virginica       0.83      1.00      0.91        15\n",
      "\n",
      "    accuracy                           0.93        45\n",
      "   macro avg       0.94      0.91      0.92        45\n",
      "weighted avg       0.94      0.93      0.93        45\n",
      "\n",
      "[[19  0  0]\n",
      " [ 0  8  3]\n",
      " [ 0  0 15]]\n"
     ]
    }
   ],
   "source": [
    "from sklearn import metrics\n",
    "from sklearn.metrics import accuracy_score, confusion_matrix,classification_report\n",
    "\n",
    "pred = model.predict(test_X)\n",
    "score = accuracy_score(iris.target_names[test_Y], pred)\n",
    "print('score:%s' % score)\n",
    "print(classification_report(iris.target_names[test_Y], pred))\n",
    "print(confusion_matrix(iris.target_names[test_Y], pred))\n",
    "      "
   ]
  },
  {
   "cell_type": "code",
   "execution_count": null,
   "metadata": {},
   "outputs": [],
   "source": []
  }
 ],
 "metadata": {
  "kernelspec": {
   "display_name": "Python 3",
   "language": "python",
   "name": "python3"
  },
  "language_info": {
   "codemirror_mode": {
    "name": "ipython",
    "version": 3
   },
   "file_extension": ".py",
   "mimetype": "text/x-python",
   "name": "python",
   "nbconvert_exporter": "python",
   "pygments_lexer": "ipython3",
   "version": "3.7.3"
  }
 },
 "nbformat": 4,
 "nbformat_minor": 2
}
