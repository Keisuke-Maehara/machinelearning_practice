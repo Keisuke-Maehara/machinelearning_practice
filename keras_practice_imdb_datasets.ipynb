{
 "cells": [
  {
   "cell_type": "code",
   "execution_count": 1,
   "metadata": {},
   "outputs": [
    {
     "name": "stderr",
     "output_type": "stream",
     "text": [
      "Using TensorFlow backend.\n"
     ]
    }
   ],
   "source": [
    "import numpy as np\n",
    "from keras.datasets import imdb\n",
    "from keras.preprocessing.text import Tokenizer\n",
    "from keras import models \n",
    "from keras import layers\n",
    "from keras.callbacks import EarlyStopping\n",
    "from sklearn.model_selection import train_test_split "
   ]
  },
  {
   "cell_type": "code",
   "execution_count": 12,
   "metadata": {},
   "outputs": [],
   "source": [
    "(train_data, train_labels), (test_data, test_labels) = imdb.load_data(num_words=12000)"
   ]
  },
  {
   "cell_type": "code",
   "execution_count": 13,
   "metadata": {},
   "outputs": [
    {
     "data": {
      "text/plain": [
       "(25000,)"
      ]
     },
     "execution_count": 13,
     "metadata": {},
     "output_type": "execute_result"
    }
   ],
   "source": [
    "train_data.shape"
   ]
  },
  {
   "cell_type": "code",
   "execution_count": 14,
   "metadata": {},
   "outputs": [
    {
     "data": {
      "text/plain": [
       "[1,\n",
       " 14,\n",
       " 22,\n",
       " 16,\n",
       " 43,\n",
       " 530,\n",
       " 973,\n",
       " 1622,\n",
       " 1385,\n",
       " 65,\n",
       " 458,\n",
       " 4468,\n",
       " 66,\n",
       " 3941,\n",
       " 4,\n",
       " 173,\n",
       " 36,\n",
       " 256,\n",
       " 5,\n",
       " 25,\n",
       " 100,\n",
       " 43,\n",
       " 838,\n",
       " 112,\n",
       " 50,\n",
       " 670,\n",
       " 2,\n",
       " 9,\n",
       " 35,\n",
       " 480,\n",
       " 284,\n",
       " 5,\n",
       " 150,\n",
       " 4,\n",
       " 172,\n",
       " 112,\n",
       " 167,\n",
       " 2,\n",
       " 336,\n",
       " 385,\n",
       " 39,\n",
       " 4,\n",
       " 172,\n",
       " 4536,\n",
       " 1111,\n",
       " 17,\n",
       " 546,\n",
       " 38,\n",
       " 13,\n",
       " 447,\n",
       " 4,\n",
       " 192,\n",
       " 50,\n",
       " 16,\n",
       " 6,\n",
       " 147,\n",
       " 2025,\n",
       " 19,\n",
       " 14,\n",
       " 22,\n",
       " 4,\n",
       " 1920,\n",
       " 4613,\n",
       " 469,\n",
       " 4,\n",
       " 22,\n",
       " 71,\n",
       " 87,\n",
       " 12,\n",
       " 16,\n",
       " 43,\n",
       " 530,\n",
       " 38,\n",
       " 76,\n",
       " 15,\n",
       " 13,\n",
       " 1247,\n",
       " 4,\n",
       " 22,\n",
       " 17,\n",
       " 515,\n",
       " 17,\n",
       " 12,\n",
       " 16,\n",
       " 626,\n",
       " 18,\n",
       " 2,\n",
       " 5,\n",
       " 62,\n",
       " 386,\n",
       " 12,\n",
       " 8,\n",
       " 316,\n",
       " 8,\n",
       " 106,\n",
       " 5,\n",
       " 4,\n",
       " 2223,\n",
       " 5244,\n",
       " 16,\n",
       " 480,\n",
       " 66,\n",
       " 3785,\n",
       " 33,\n",
       " 4,\n",
       " 130,\n",
       " 12,\n",
       " 16,\n",
       " 38,\n",
       " 619,\n",
       " 5,\n",
       " 25,\n",
       " 124,\n",
       " 51,\n",
       " 36,\n",
       " 135,\n",
       " 48,\n",
       " 25,\n",
       " 1415,\n",
       " 33,\n",
       " 6,\n",
       " 22,\n",
       " 12,\n",
       " 215,\n",
       " 28,\n",
       " 77,\n",
       " 52,\n",
       " 5,\n",
       " 14,\n",
       " 407,\n",
       " 16,\n",
       " 82,\n",
       " 10311,\n",
       " 8,\n",
       " 4,\n",
       " 107,\n",
       " 117,\n",
       " 5952,\n",
       " 15,\n",
       " 256,\n",
       " 4,\n",
       " 2,\n",
       " 7,\n",
       " 3766,\n",
       " 5,\n",
       " 723,\n",
       " 36,\n",
       " 71,\n",
       " 43,\n",
       " 530,\n",
       " 476,\n",
       " 26,\n",
       " 400,\n",
       " 317,\n",
       " 46,\n",
       " 7,\n",
       " 4,\n",
       " 2,\n",
       " 1029,\n",
       " 13,\n",
       " 104,\n",
       " 88,\n",
       " 4,\n",
       " 381,\n",
       " 15,\n",
       " 297,\n",
       " 98,\n",
       " 32,\n",
       " 2071,\n",
       " 56,\n",
       " 26,\n",
       " 141,\n",
       " 6,\n",
       " 194,\n",
       " 7486,\n",
       " 18,\n",
       " 4,\n",
       " 226,\n",
       " 22,\n",
       " 21,\n",
       " 134,\n",
       " 476,\n",
       " 26,\n",
       " 480,\n",
       " 5,\n",
       " 144,\n",
       " 30,\n",
       " 5535,\n",
       " 18,\n",
       " 51,\n",
       " 36,\n",
       " 28,\n",
       " 224,\n",
       " 92,\n",
       " 25,\n",
       " 104,\n",
       " 4,\n",
       " 226,\n",
       " 65,\n",
       " 16,\n",
       " 38,\n",
       " 1334,\n",
       " 88,\n",
       " 12,\n",
       " 16,\n",
       " 283,\n",
       " 5,\n",
       " 16,\n",
       " 4472,\n",
       " 113,\n",
       " 103,\n",
       " 32,\n",
       " 15,\n",
       " 16,\n",
       " 5345,\n",
       " 19,\n",
       " 178,\n",
       " 32]"
      ]
     },
     "execution_count": 14,
     "metadata": {},
     "output_type": "execute_result"
    }
   ],
   "source": [
    "train_data[0]"
   ]
  },
  {
   "cell_type": "code",
   "execution_count": 6,
   "metadata": {},
   "outputs": [
    {
     "data": {
      "text/plain": [
       "218"
      ]
     },
     "execution_count": 6,
     "metadata": {},
     "output_type": "execute_result"
    }
   ],
   "source": [
    "len(train_data[0])"
   ]
  },
  {
   "cell_type": "code",
   "execution_count": 7,
   "metadata": {},
   "outputs": [
    {
     "data": {
      "text/plain": [
       "1"
      ]
     },
     "execution_count": 7,
     "metadata": {},
     "output_type": "execute_result"
    }
   ],
   "source": [
    "train_labels[0]"
   ]
  },
  {
   "cell_type": "code",
   "execution_count": 8,
   "metadata": {},
   "outputs": [
    {
     "data": {
      "text/plain": [
       "0"
      ]
     },
     "execution_count": 8,
     "metadata": {},
     "output_type": "execute_result"
    }
   ],
   "source": [
    "train_labels[1]"
   ]
  },
  {
   "cell_type": "code",
   "execution_count": 9,
   "metadata": {},
   "outputs": [
    {
     "data": {
      "text/plain": [
       "[1,\n",
       " 6,\n",
       " 55,\n",
       " 78,\n",
       " 589,\n",
       " 33,\n",
       " 6,\n",
       " 185,\n",
       " 5777,\n",
       " 3932,\n",
       " 33,\n",
       " 222,\n",
       " 4,\n",
       " 228,\n",
       " 11,\n",
       " 5777,\n",
       " 3932,\n",
       " 16,\n",
       " 52,\n",
       " 10,\n",
       " 10,\n",
       " 14,\n",
       " 9,\n",
       " 66,\n",
       " 6,\n",
       " 55,\n",
       " 619,\n",
       " 420,\n",
       " 7,\n",
       " 363,\n",
       " 2,\n",
       " 33,\n",
       " 45,\n",
       " 249,\n",
       " 6,\n",
       " 762,\n",
       " 7,\n",
       " 363,\n",
       " 2,\n",
       " 78,\n",
       " 5247,\n",
       " 5,\n",
       " 1180,\n",
       " 987,\n",
       " 49,\n",
       " 2,\n",
       " 123,\n",
       " 38,\n",
       " 68,\n",
       " 362,\n",
       " 70,\n",
       " 30,\n",
       " 11,\n",
       " 4,\n",
       " 7603,\n",
       " 449,\n",
       " 591,\n",
       " 4,\n",
       " 2,\n",
       " 486,\n",
       " 16,\n",
       " 60,\n",
       " 78,\n",
       " 13,\n",
       " 784,\n",
       " 14,\n",
       " 538,\n",
       " 54,\n",
       " 50,\n",
       " 9,\n",
       " 66,\n",
       " 966,\n",
       " 1020,\n",
       " 362,\n",
       " 5247,\n",
       " 156,\n",
       " 5,\n",
       " 2719,\n",
       " 46,\n",
       " 50,\n",
       " 11749,\n",
       " 68,\n",
       " 11805,\n",
       " 8,\n",
       " 28,\n",
       " 1023,\n",
       " 5,\n",
       " 14,\n",
       " 595,\n",
       " 266,\n",
       " 367,\n",
       " 10,\n",
       " 10,\n",
       " 339,\n",
       " 1206,\n",
       " 32,\n",
       " 138,\n",
       " 286,\n",
       " 1924,\n",
       " 5193,\n",
       " 11,\n",
       " 12,\n",
       " 2,\n",
       " 1296,\n",
       " 11,\n",
       " 722,\n",
       " 9,\n",
       " 170,\n",
       " 180,\n",
       " 4,\n",
       " 3480]"
      ]
     },
     "execution_count": 9,
     "metadata": {},
     "output_type": "execute_result"
    }
   ],
   "source": [
    "train_data[1200]"
   ]
  },
  {
   "cell_type": "code",
   "execution_count": 10,
   "metadata": {},
   "outputs": [
    {
     "data": {
      "text/plain": [
       "111"
      ]
     },
     "execution_count": 10,
     "metadata": {},
     "output_type": "execute_result"
    }
   ],
   "source": [
    "len(train_data[1200])"
   ]
  },
  {
   "cell_type": "code",
   "execution_count": 15,
   "metadata": {},
   "outputs": [],
   "source": [
    "tokenizer = Tokenizer(num_words=12000)\n",
    "X_train = tokenizer.sequences_to_matrix(train_data, mode='binary')\n",
    "X_test = tokenizer.sequences_to_matrix(test_data, mode='binary')"
   ]
  },
  {
   "cell_type": "code",
   "execution_count": 16,
   "metadata": {},
   "outputs": [
    {
     "data": {
      "text/plain": [
       "(25000, 12000)"
      ]
     },
     "execution_count": 16,
     "metadata": {},
     "output_type": "execute_result"
    }
   ],
   "source": [
    "X_train.shape"
   ]
  },
  {
   "cell_type": "code",
   "execution_count": 17,
   "metadata": {},
   "outputs": [
    {
     "data": {
      "text/plain": [
       "array([0., 1., 1., ..., 0., 0., 0.])"
      ]
     },
     "execution_count": 17,
     "metadata": {},
     "output_type": "execute_result"
    }
   ],
   "source": [
    "X_train[0]"
   ]
  },
  {
   "cell_type": "code",
   "execution_count": 18,
   "metadata": {},
   "outputs": [],
   "source": [
    "y_train = np.asarray(train_labels).astype('float32')\n",
    "y_test = np.asarray(test_labels).astype('float32')"
   ]
  },
  {
   "cell_type": "code",
   "execution_count": 19,
   "metadata": {},
   "outputs": [
    {
     "data": {
      "text/plain": [
       "1.0"
      ]
     },
     "execution_count": 19,
     "metadata": {},
     "output_type": "execute_result"
    }
   ],
   "source": [
    "y_train[0]"
   ]
  },
  {
   "cell_type": "code",
   "execution_count": 20,
   "metadata": {},
   "outputs": [
    {
     "data": {
      "text/plain": [
       "(25000,)"
      ]
     },
     "execution_count": 20,
     "metadata": {},
     "output_type": "execute_result"
    }
   ],
   "source": [
    "y_train.shape"
   ]
  },
  {
   "cell_type": "code",
   "execution_count": 21,
   "metadata": {},
   "outputs": [],
   "source": [
    "X_train, X_val, y_train, y_val = train_test_split(X_train, y_train, test_size=0.1, random_state=0)"
   ]
  },
  {
   "cell_type": "code",
   "execution_count": 22,
   "metadata": {},
   "outputs": [
    {
     "name": "stdout",
     "output_type": "stream",
     "text": [
      "(22500, 12000) (2500, 12000)\n"
     ]
    }
   ],
   "source": [
    "print(X_train.shape, X_val.shape)"
   ]
  },
  {
   "cell_type": "code",
   "execution_count": 25,
   "metadata": {},
   "outputs": [],
   "source": [
    "model = models.Sequential()\n",
    "model.add(layers.Dense(32, activation='relu', input_shape=(12000,)))\n",
    "model.add(layers.Dense(16, activation='relu'))\n",
    "model.add(layers.Dense(1, activation='sigmoid'))"
   ]
  },
  {
   "cell_type": "code",
   "execution_count": 26,
   "metadata": {},
   "outputs": [
    {
     "name": "stdout",
     "output_type": "stream",
     "text": [
      "Model: \"sequential_3\"\n",
      "_________________________________________________________________\n",
      "Layer (type)                 Output Shape              Param #   \n",
      "=================================================================\n",
      "dense_2 (Dense)              (None, 32)                384032    \n",
      "_________________________________________________________________\n",
      "dense_3 (Dense)              (None, 16)                528       \n",
      "_________________________________________________________________\n",
      "dense_4 (Dense)              (None, 1)                 17        \n",
      "=================================================================\n",
      "Total params: 384,577\n",
      "Trainable params: 384,577\n",
      "Non-trainable params: 0\n",
      "_________________________________________________________________\n"
     ]
    }
   ],
   "source": [
    "model.summary()"
   ]
  },
  {
   "cell_type": "code",
   "execution_count": 28,
   "metadata": {},
   "outputs": [],
   "source": [
    "model.compile(optimizer='adam',\n",
    "             loss='binary_crossentropy',\n",
    "             metrics=['accuracy'])"
   ]
  },
  {
   "cell_type": "code",
   "execution_count": 29,
   "metadata": {},
   "outputs": [
    {
     "name": "stdout",
     "output_type": "stream",
     "text": [
      "Train on 22500 samples, validate on 2500 samples\n",
      "Epoch 1/20\n",
      "22500/22500 [==============================] - 6s 286us/step - loss: 0.4402 - accuracy: 0.8259 - val_loss: 0.2802 - val_accuracy: 0.8948\n",
      "Epoch 2/20\n",
      "22500/22500 [==============================] - 4s 166us/step - loss: 0.2115 - accuracy: 0.9226 - val_loss: 0.2570 - val_accuracy: 0.9000\n",
      "Epoch 3/20\n",
      "22500/22500 [==============================] - 4s 167us/step - loss: 0.1455 - accuracy: 0.9503 - val_loss: 0.2760 - val_accuracy: 0.8992\n",
      "Epoch 4/20\n",
      "22500/22500 [==============================] - 4s 167us/step - loss: 0.1073 - accuracy: 0.9671 - val_loss: 0.3022 - val_accuracy: 0.8916\n",
      "Epoch 5/20\n",
      "22500/22500 [==============================] - 4s 166us/step - loss: 0.0808 - accuracy: 0.9769 - val_loss: 0.3418 - val_accuracy: 0.8904\n",
      "Epoch 6/20\n",
      "22500/22500 [==============================] - 4s 172us/step - loss: 0.0589 - accuracy: 0.9847 - val_loss: 0.3824 - val_accuracy: 0.8868\n",
      "Epoch 7/20\n",
      "22500/22500 [==============================] - 4s 178us/step - loss: 0.0422 - accuracy: 0.9909 - val_loss: 0.4394 - val_accuracy: 0.8824\n",
      "Epoch 8/20\n",
      "22500/22500 [==============================] - 4s 178us/step - loss: 0.0296 - accuracy: 0.9948 - val_loss: 0.4906 - val_accuracy: 0.8796\n",
      "Epoch 9/20\n",
      "22500/22500 [==============================] - 4s 168us/step - loss: 0.0207 - accuracy: 0.9973 - val_loss: 0.5417 - val_accuracy: 0.8748\n",
      "Epoch 10/20\n",
      "22500/22500 [==============================] - 4s 166us/step - loss: 0.0137 - accuracy: 0.9987 - val_loss: 0.5955 - val_accuracy: 0.8772\n",
      "Epoch 11/20\n",
      "22500/22500 [==============================] - 4s 167us/step - loss: 0.0090 - accuracy: 0.9995 - val_loss: 0.6455 - val_accuracy: 0.8744\n",
      "Epoch 12/20\n",
      "22500/22500 [==============================] - 4s 170us/step - loss: 0.0061 - accuracy: 0.9996 - val_loss: 0.6878 - val_accuracy: 0.8736\n",
      "Epoch 13/20\n",
      "22500/22500 [==============================] - 4s 167us/step - loss: 0.0043 - accuracy: 0.9998 - val_loss: 0.7220 - val_accuracy: 0.8712\n",
      "Epoch 14/20\n",
      "22500/22500 [==============================] - 4s 171us/step - loss: 0.0031 - accuracy: 1.0000 - val_loss: 0.7552 - val_accuracy: 0.8696\n",
      "Epoch 15/20\n",
      "22500/22500 [==============================] - 4s 166us/step - loss: 0.0023 - accuracy: 1.0000 - val_loss: 0.7861 - val_accuracy: 0.8716\n",
      "Epoch 16/20\n",
      "22500/22500 [==============================] - 4s 168us/step - loss: 0.0018 - accuracy: 1.0000 - val_loss: 0.8151 - val_accuracy: 0.8720\n",
      "Epoch 17/20\n",
      "22500/22500 [==============================] - 4s 168us/step - loss: 0.0015 - accuracy: 1.0000 - val_loss: 0.8345 - val_accuracy: 0.8696\n",
      "Epoch 18/20\n",
      "22500/22500 [==============================] - 4s 172us/step - loss: 0.0012 - accuracy: 1.0000 - val_loss: 0.8586 - val_accuracy: 0.8704\n",
      "Epoch 19/20\n",
      "22500/22500 [==============================] - 4s 176us/step - loss: 9.8740e-04 - accuracy: 1.0000 - val_loss: 0.8825 - val_accuracy: 0.8712\n",
      "Epoch 20/20\n",
      "22500/22500 [==============================] - 4s 171us/step - loss: 8.3508e-04 - accuracy: 1.0000 - val_loss: 0.9009 - val_accuracy: 0.8716\n"
     ]
    }
   ],
   "source": [
    "history = model.fit(x=X_train,\n",
    "                   y=y_train,\n",
    "                   epochs=20,\n",
    "                   batch_size=512,\n",
    "                   verbose=1,\n",
    "                   validation_data=(X_val, y_val))\n"
   ]
  },
  {
   "cell_type": "code",
   "execution_count": 31,
   "metadata": {},
   "outputs": [
    {
     "data": {
      "text/plain": [
       "dict_keys(['val_loss', 'val_accuracy', 'loss', 'accuracy'])"
      ]
     },
     "execution_count": 31,
     "metadata": {},
     "output_type": "execute_result"
    }
   ],
   "source": [
    "history_dict = history.history\n",
    "history_dict.keys()"
   ]
  },
  {
   "cell_type": "code",
   "execution_count": 35,
   "metadata": {},
   "outputs": [
    {
     "data": {
      "text/plain": [
       "dict_values([[0.2801930222988129, 0.2570225118875504, 0.2760254385471344, 0.3021915501117706, 0.34180322399139407, 0.38244748644828797, 0.4393906069278717, 0.49057272753715514, 0.5416628274917602, 0.5955196332931518, 0.6455388381958008, 0.6877999779701233, 0.7219690313339233, 0.7552388067245484, 0.7861068759918213, 0.8150746617317199, 0.8345187020301819, 0.858571317577362, 0.8824947068214416, 0.9008827612876892], [0.8948000073432922, 0.8999999761581421, 0.8992000222206116, 0.8916000127792358, 0.8903999924659729, 0.8867999911308289, 0.8823999762535095, 0.8795999884605408, 0.8748000264167786, 0.8772000074386597, 0.8744000196456909, 0.8736000061035156, 0.8712000250816345, 0.8695999979972839, 0.8715999722480774, 0.871999979019165, 0.8695999979972839, 0.8704000115394592, 0.8712000250816345, 0.8715999722480774], [0.4402025258170234, 0.21149441236654917, 0.14554791344801585, 0.10733548737896813, 0.08084383253918753, 0.05894323663181729, 0.04218893170224296, 0.029598104488518504, 0.020720330075422923, 0.013718815057476361, 0.008957225030577845, 0.006057139338884089, 0.004274370338933336, 0.0030844873966442213, 0.002319214353296492, 0.0018113467822058332, 0.001457825144732164, 0.0011890307501475844, 0.0009874032906774018, 0.0008350766019999153], [0.8259111, 0.9226222, 0.95026666, 0.96706665, 0.97693336, 0.9847111, 0.9908889, 0.99475557, 0.9972889, 0.9987111, 0.9995111, 0.9996, 0.9998222, 0.99995553, 1.0, 1.0, 1.0, 1.0, 1.0, 1.0]])"
      ]
     },
     "execution_count": 35,
     "metadata": {},
     "output_type": "execute_result"
    }
   ],
   "source": [
    "history_dict.values()"
   ]
  },
  {
   "cell_type": "code",
   "execution_count": 36,
   "metadata": {},
   "outputs": [
    {
     "name": "stdout",
     "output_type": "stream",
     "text": [
      "25000/25000 [==============================] - 9s 342us/step\n",
      "Test set loss: 1.0235460930609703, Test set acc: 0.8519999980926514\n"
     ]
    }
   ],
   "source": [
    "score = model.evaluate(X_test, y_test)\n",
    "print(\"Test set loss: {}, Test set acc: {}\".format(score[0], score[1]))"
   ]
  },
  {
   "cell_type": "code",
   "execution_count": null,
   "metadata": {},
   "outputs": [],
   "source": []
  }
 ],
 "metadata": {
  "kernelspec": {
   "display_name": "Python 3",
   "language": "python",
   "name": "python3"
  },
  "language_info": {
   "codemirror_mode": {
    "name": "ipython",
    "version": 3
   },
   "file_extension": ".py",
   "mimetype": "text/x-python",
   "name": "python",
   "nbconvert_exporter": "python",
   "pygments_lexer": "ipython3",
   "version": "3.7.6"
  }
 },
 "nbformat": 4,
 "nbformat_minor": 4
}
